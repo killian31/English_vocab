{
  "nbformat": 4,
  "nbformat_minor": 0,
  "metadata": {
    "colab": {
      "name": "english_partiel.ipynb",
      "private_outputs": true,
      "provenance": [],
      "collapsed_sections": [],
      "authorship_tag": "ABX9TyNWc0SjEjrUyKl3bQfTrTs0",
      "include_colab_link": true
    },
    "kernelspec": {
      "name": "python3",
      "display_name": "Python 3"
    },
    "language_info": {
      "name": "python"
    }
  },
  "cells": [
    {
      "cell_type": "markdown",
      "metadata": {
        "id": "view-in-github",
        "colab_type": "text"
      },
      "source": [
        "<a href=\"https://colab.research.google.com/github/killian31/English_vocab/blob/main/english_partiel.ipynb\" target=\"_parent\"><img src=\"https://colab.research.google.com/assets/colab-badge.svg\" alt=\"Open In Colab\"/></a>"
      ]
    },
    {
      "cell_type": "markdown",
      "metadata": {
        "id": "fcbadECXPrYQ"
      },
      "source": [
        "# English vocab test in French\n",
        "Copyright: Killian Steunou"
      ]
    },
    {
      "cell_type": "code",
      "metadata": {
        "id": "2mWkb4pBPpUm",
        "cellView": "form"
      },
      "source": [
        "#@title Run this cell to load the text file containing the words\n",
        "import random\n",
        "from IPython.display import clear_output \n",
        "from urllib.request import urlopen\n",
        "\n",
        "#on récupère les mots à partir du fichier\n",
        "\n",
        "text = urlopen(\"https://github.com/killian31/English_vocab/raw/main/words_partiel.txt\").read().decode('utf-8')\n",
        "\n",
        "#with open(file_name, 'r') as f:\n",
        "    #text = f.readlines()\n",
        "\n",
        "dico = {}\n",
        "text = text.split('\\n')\n",
        "#print(text[0])\n",
        "for trad in text:\n",
        "  if trad != '':\n",
        "    a = trad.split(':')\n",
        "    dico[a[0].strip()] = a[1].strip()\n",
        "\n",
        "def train(dico=dico):\n",
        "\n",
        "    while len(dico) > 0:\n",
        "        print('Mots restants :', len(dico))\n",
        "        traduction = random.choice(list(dico.items()))\n",
        "        ans = input(f'Traduire : {traduction[0]}\\nAppuyez sur Entrée pour voir la réponse : ')\n",
        "        print('Traduction :', traduction[1])\n",
        "        del dico[traduction[0]]\n",
        "        next = input('Entrée pour passer au suivant ')\n",
        "        clear_output()\n",
        "        \n",
        "    print('Entraînement terminé.')"
      ],
      "execution_count": null,
      "outputs": []
    },
    {
      "cell_type": "code",
      "metadata": {
        "id": "8OJpmBYsQTKV",
        "cellView": "form"
      },
      "source": [
        "#@title Run this cell to start training. You can stop the training at any time by cancelling the execution.\n",
        "try:\n",
        "  train(dico=dico)\n",
        "except KeyboardInterrupt:\n",
        "  print(\"Training stopped.\")"
      ],
      "execution_count": null,
      "outputs": []
    },
    {
      "cell_type": "code",
      "metadata": {
        "cellView": "form",
        "id": "Eii2CWpFgJ7p"
      },
      "source": [
        "#@title Run this cell to reset the training.\n",
        "\n",
        "dico = {}\n",
        "for trad in text:\n",
        "  if trad != '':\n",
        "    a = trad.split(':')\n",
        "    dico[a[0].strip()] = a[1].strip()\n",
        "print(\"Training ready.\")"
      ],
      "execution_count": null,
      "outputs": []
    },
    {
      "cell_type": "code",
      "metadata": {
        "id": "RXfQDHHegY_J"
      },
      "source": [
        ""
      ],
      "execution_count": null,
      "outputs": []
    }
  ]
}